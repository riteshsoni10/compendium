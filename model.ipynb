{
 "cells": [
  {
   "cell_type": "code",
   "execution_count": 1,
   "metadata": {},
   "outputs": [],
   "source": [
    "import spacy\n",
    "\n",
    "import torch\n",
    "from torch import nn\n",
    "import torch.nn.functional as F\n",
    "\n",
    "from torchtext.datasets import TranslationDataset\n",
    "from torchtext.data import Field, BucketIterator, TabularDataset\n",
    "from torch import optim\n",
    "\n",
    "import time\n",
    "import random\n",
    "\n",
    "device = torch.device('cuda' if torch.cuda.is_available() else 'cpu')"
   ]
  },
  {
   "cell_type": "code",
   "execution_count": null,
   "metadata": {},
   "outputs": [],
   "source": [
    "\n",
    "ARTICLE = Field(tokenize='spacy',\n",
    "                tokenizer_language='en',\n",
    "                init_token='<sos>',\n",
    "                eos_token='<eos>',\n",
    "                lower=True,\n",
    "                include_lengths=True\n",
    "                )\n",
    "SUMMARY = Field(tokenize='spacy',\n",
    "                tokenizer_language='en',\n",
    "                init_token='<sos>',\n",
    "                eos_token='<eos>',\n",
    "                lower=True,\n",
    "                )"
   ]
  },
  {
   "cell_type": "code",
   "execution_count": null,
   "metadata": {},
   "outputs": [],
   "source": [
    "train_data, valid_data, test_data = TabularDataset.splits(\n",
    "                                                    path=\"./data\",\n",
    "                                                    train='train.csv',\n",
    "                                                    validation='val.csv',\n",
    "                                                    test='test.csv', \n",
    "                                                    format='csv',\n",
    "                                                    fields=[(\"text\",ARTICLE),('headline',SUMMARY)]\n",
    "                                                        )"
   ]
  },
  {
   "cell_type": "code",
   "execution_count": null,
   "metadata": {},
   "outputs": [],
   "source": [
    "ARTICLE.build_vocab(train_data, min_freq=2)\n",
    "SUMMARY.build_vocab(train_data, min_freq=2)"
   ]
  },
  {
   "cell_type": "code",
   "execution_count": null,
   "metadata": {},
   "outputs": [],
   "source": [
    "BATCH_SIZE = 64\n",
    "\n",
    "train_loader, valid_loader, test_loader = BucketIterator.splits(\n",
    "                                                            (train_data, valid_data, test_data),\n",
    "                                                            batch_size=BATCH_SIZE,\n",
    "                                                            sort_within_batch=True,\n",
    "                                                            sort_key = lambda x:len(x.text),\n",
    "                                                            device=device\n",
    "                                                                )"
   ]
  },
  {
   "cell_type": "code",
   "execution_count": null,
   "metadata": {},
   "outputs": [],
   "source": [
    "class Encoder(nn.Module):\n",
    "    \n",
    "    \n",
    "    def __init__(self, vocab, embeding_dim, encoder_hidden_dim, decoder_hidden_dim, dropout):\n",
    "        super().__init__()\n",
    "        \n",
    "        self.embedding = nn.Embedding(vocab, embeding_dim)\n",
    "        self.rnn = nn.GRU(embeding_dim, encoder_hidden_dim, bidirectional = True)\n",
    "        self.fc = nn.Linear(encoder_hidden_dim*2, decoder_hidden_dim)\n",
    "        \n",
    "        self.dropout = nn.Dropout(p=dropout)\n",
    "   \n",
    "\n",
    "    def forward(self, text, text_len):\n",
    "        embedded = self.dropout(self.embedding(text))\n",
    "        packed_embedded = nn.utils.rnn.pack_padded_sequence(embedded, text_len)\n",
    "        packed_outputs, hidden = self.rnn(packed_embedded) \n",
    "        outputs, _ = nn.utils.rnn.pad_packed_sequence(packed_outputs)\n",
    "        hidden = torch.tanh(self.fc(torch.cat((hidden[-2,:,:], hidden[-1,:,:]), dim = 1)))\n",
    "        \n",
    "        return outputs, hidden"
   ]
  },
  {
   "cell_type": "code",
   "execution_count": null,
   "metadata": {},
   "outputs": [],
   "source": [
    "class Attention(nn.Module):\n",
    "    \n",
    "    \n",
    "    def __init__(self, enc_hid_dim, dec_hid_dim ):\n",
    "        super().__init__()\n",
    "        self.attn = nn.Linear((enc_hid_dim * 2) + dec_hid_dim, dec_hid_dim)\n",
    "        self.v = nn.Linear(dec_hid_dim, 1, bias = False)\n",
    "    \n",
    "    \n",
    "    def forward(self, hidden, encoder_outputs, mask):      \n",
    "        batch_size = encoder_outputs.shape[1]\n",
    "        src_len = encoder_outputs.shape[0]\n",
    "        hidden = hidden.unsqueeze(1).repeat(1, src_len, 1)\n",
    "        encoder_outputs = encoder_outputs.permute(1, 0, 2)\n",
    "        energy = torch.tanh(self.attn(torch.cat((hidden, encoder_outputs), dim = 2))) \n",
    "        attention = self.v(energy).squeeze(2)\n",
    "        attention = attention.masked_fill(mask == 0, -1e10)\n",
    "        \n",
    "        return F.softmax(attention, dim = 1)"
   ]
  },
  {
   "cell_type": "code",
   "execution_count": null,
   "metadata": {},
   "outputs": [],
   "source": [
    "class Decoder(nn.Module):\n",
    "    def __init__(self, output_dim, emb_dim, enc_hid_dim, dec_hid_dim, dropout, attention):\n",
    "        super().__init__()\n",
    "        \n",
    "        self.output_dim = output_dim\n",
    "        self.attention = attention\n",
    "        \n",
    "        self.embedding = nn.Embedding(output_dim, emb_dim)        \n",
    "        self.rnn = nn.GRU((enc_hid_dim * 2) + emb_dim, dec_hid_dim)\n",
    "        self.fc_out = nn.Linear((enc_hid_dim * 2) + dec_hid_dim + emb_dim, output_dim)        \n",
    "        \n",
    "        self.dropout = nn.Dropout(dropout)\n",
    "        \n",
    "    def forward(self, input_, hidden, encoder_outputs, mask):\n",
    "    \n",
    "        input_ = input_.unsqueeze(0)\n",
    "        embedded = self.dropout(self.embedding(input_))\n",
    "\n",
    "        atten = self.attention(hidden, encoder_outputs, mask)        \n",
    "        atten = atten.unsqueeze(1)\n",
    "        \n",
    "        encoder_outputs = encoder_outputs.permute(1, 0, 2)\n",
    "        weighted = torch.bmm(atten, encoder_outputs)\n",
    "        \n",
    "        weighted = weighted.permute(1, 0, 2)\n",
    "        \n",
    "        rnn_input_ = torch.cat((embedded, weighted), dim = 2)\n",
    "\n",
    "            \n",
    "        output, hidden = self.rnn(rnn_input_, hidden.unsqueeze(0))\n",
    "        \n",
    "        assert (output == hidden).all()\n",
    "        \n",
    "        embedded = embedded.squeeze(0)\n",
    "        output = output.squeeze(0)\n",
    "        weighted = weighted.squeeze(0)\n",
    "        \n",
    "        prediction = self.fc_out(torch.cat((output, weighted, embedded), dim = 1))\n",
    "        \n",
    "        return prediction, hidden.squeeze(0), atten.squeeze(1)"
   ]
  },
  {
   "cell_type": "code",
   "execution_count": null,
   "metadata": {},
   "outputs": [],
   "source": [
    "class Seq2Seq(nn.Module):\n",
    "    def __init__(self, encoder, decoder, text_pad_idx, device):\n",
    "        super().__init__()\n",
    "        \n",
    "        self.encoder = encoder\n",
    "        self.decoder = decoder\n",
    "        self.text_pad_idx = text_pad_idx\n",
    "        self.device = device\n",
    "        \n",
    "    def create_mask(self, text):\n",
    "        mask = (text != self.text_pad_idx).permute(1, 0)\n",
    "        return mask\n",
    "        \n",
    "    def forward(self, text, text_len, headline, teacher_forcing_ratio = 0.5):\n",
    "        batch_size = text.shape[1]\n",
    "        headline_len = headline.shape[0]\n",
    "        headline_vocab_size = self.decoder.output_dim\n",
    "\n",
    "        outputs = torch.zeros(headline_len, batch_size, headline_vocab_size).to(self.device)\n",
    "      \n",
    "        encoder_outputs, hidden = self.encoder(text, text_len)\n",
    "       \n",
    "        input_ = headline[0,:]\n",
    "        \n",
    "        mask = self.create_mask(text)\n",
    "                \n",
    "        for t in range(1, headline_len):\n",
    "            \n",
    "            output, hidden, _ = self.decoder(input_, hidden, encoder_outputs, mask)           \n",
    "            outputs[t] = output\n",
    "            teacher_force = random.random() < teacher_forcing_ratio            \n",
    "            top1 = output.argmax(1)             \n",
    "            input_ = headline[t] if teacher_force else top1\n",
    "            \n",
    "        return outputs"
   ]
  },
  {
   "cell_type": "code",
   "execution_count": null,
   "metadata": {},
   "outputs": [],
   "source": [
    "INPUT_DIM = len(ARTICLE.vocab)\n",
    "OUTPUT_DIM = len(SUMMARY.vocab)\n",
    "ENC_EMB_DIM = 256\n",
    "DEC_EMB_DIM = 256\n",
    "ENC_HID_DIM = 512\n",
    "DEC_HID_DIM = 512\n",
    "ENC_DROPOUT = 0.5\n",
    "DEC_DROPOUT = 0.5\n",
    "ARTICLE_PAD_IDX = ARTICLE.vocab.stoi[ARTICLE.pad_token]\n",
    "\n",
    "attn = Attention(ENC_HID_DIM, DEC_HID_DIM)\n",
    "enc = Encoder(INPUT_DIM, ENC_EMB_DIM, ENC_HID_DIM, DEC_HID_DIM, ENC_DROPOUT)\n",
    "dec = Decoder(OUTPUT_DIM, DEC_EMB_DIM, ENC_HID_DIM, DEC_HID_DIM, DEC_DROPOUT, attn)\n",
    "\n",
    "model = Seq2Seq(enc, dec, ARTICLE_PAD_IDX, device).to(device)"
   ]
  },
  {
   "cell_type": "code",
   "execution_count": null,
   "metadata": {},
   "outputs": [],
   "source": [
    "def init_weights(m):\n",
    "    for name, param in m.named_parameters():\n",
    "        if 'weight' in name:\n",
    "            nn.init.normal_(param.data, mean=0, std=0.01)\n",
    "        else:\n",
    "            nn.init.constant_(param.data, 0)\n",
    "            \n",
    "model.apply(init_weights)"
   ]
  },
  {
   "cell_type": "code",
   "execution_count": null,
   "metadata": {},
   "outputs": [],
   "source": [
    "optimizer = optim.Adam(model.parameters())"
   ]
  },
  {
   "cell_type": "code",
   "execution_count": null,
   "metadata": {},
   "outputs": [],
   "source": [
    "SUMMARY_PAD_IDX = SUMMARY.vocab.stoi[SUMMARY.pad_token]\n",
    "\n",
    "criterion = nn.CrossEntropyLoss(ignore_index = SUMMARY_PAD_IDX)"
   ]
  },
  {
   "cell_type": "code",
   "execution_count": null,
   "metadata": {},
   "outputs": [],
   "source": []
  }
 ],
 "metadata": {
  "kernelspec": {
   "display_name": "Python 3",
   "language": "python",
   "name": "python3"
  },
  "language_info": {
   "codemirror_mode": {
    "name": "ipython",
    "version": 3
   },
   "file_extension": ".py",
   "mimetype": "text/x-python",
   "name": "python",
   "nbconvert_exporter": "python",
   "pygments_lexer": "ipython3",
   "version": "3.7.6"
  }
 },
 "nbformat": 4,
 "nbformat_minor": 4
}
