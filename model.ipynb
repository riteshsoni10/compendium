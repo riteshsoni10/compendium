{
 "cells": [
  {
   "cell_type": "code",
   "execution_count": null,
   "metadata": {},
   "outputs": [],
   "source": [
    "import spacy\n",
    "\n",
    "import torch\n",
    "from torch import nn\n",
    "import torch.nn.functional as F\n",
    "\n",
    "from torchtext.datasets import TranslationDataset\n",
    "from torchtext.data import Field, BucketIterator, TabularDataset\n",
    "from torch import optim\n",
    "\n",
    "import time\n",
    "import random\n",
    "\n",
    "device = torch.device('cuda' if torch.cuda.is_available() else 'cpu')"
   ]
  },
  {
   "cell_type": "code",
   "execution_count": null,
   "metadata": {},
   "outputs": [],
   "source": [
    "\n",
    "ARTICLE = Field(tokenize='spacy',\n",
    "                tokenizer_language='en',\n",
    "                init_token='<sos>',\n",
    "                eos_token='<eos>',\n",
    "                lower=True,\n",
    "                include_lengths=True\n",
    "                )\n",
    "SUMMARY = Field(tokenize='spacy',\n",
    "                tokenizer_language='en',\n",
    "                init_token='<sos>',\n",
    "                eos_token='<eos>',\n",
    "                lower=True,\n",
    "                )"
   ]
  },
  {
   "cell_type": "code",
   "execution_count": null,
   "metadata": {},
   "outputs": [],
   "source": [
    "train_data, valid_data, test_data = TabularDataset.splits(\n",
    "                                                    path=\"./data\",\n",
    "                                                    train='train.csv',\n",
    "                                                    validation='val.csv',\n",
    "                                                    test='test.csv', \n",
    "                                                    format='csv',\n",
    "                                                    fields=[(\"text\",ARTICLE),('headline',SUMMARY)]\n",
    "                                                        )"
   ]
  }
 ],
 "metadata": {
  "kernelspec": {
   "display_name": "Python 3",
   "language": "python",
   "name": "python3"
  },
  "language_info": {
   "codemirror_mode": {
    "name": "ipython",
    "version": 3
   },
   "file_extension": ".py",
   "mimetype": "text/x-python",
   "name": "python",
   "nbconvert_exporter": "python",
   "pygments_lexer": "ipython3",
   "version": "3.7.6"
  }
 },
 "nbformat": 4,
 "nbformat_minor": 4
}
