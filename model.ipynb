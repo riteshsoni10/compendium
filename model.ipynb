{
 "cells": [
  {
   "cell_type": "code",
   "execution_count": 1,
   "metadata": {},
   "outputs": [],
   "source": [
    "import spacy\n",
    "\n",
    "import torch\n",
    "from torch import nn\n",
    "import torch.nn.functional as F\n",
    "\n",
    "from torchtext.datasets import TranslationDataset\n",
    "from torchtext.data import Field, BucketIterator, TabularDataset\n",
    "from torch import optim\n",
    "\n",
    "import time\n",
    "import random\n",
    "\n",
    "device = torch.device('cuda' if torch.cuda.is_available() else 'cpu')"
   ]
  },
  {
   "cell_type": "code",
   "execution_count": null,
   "metadata": {},
   "outputs": [],
   "source": [
    "\n",
    "ARTICLE = Field(tokenize='spacy',\n",
    "                tokenizer_language='en',\n",
    "                init_token='<sos>',\n",
    "                eos_token='<eos>',\n",
    "                lower=True,\n",
    "                include_lengths=True\n",
    "                )\n",
    "SUMMARY = Field(tokenize='spacy',\n",
    "                tokenizer_language='en',\n",
    "                init_token='<sos>',\n",
    "                eos_token='<eos>',\n",
    "                lower=True,\n",
    "                )"
   ]
  },
  {
   "cell_type": "code",
   "execution_count": null,
   "metadata": {},
   "outputs": [],
   "source": [
    "train_data, valid_data, test_data = TabularDataset.splits(\n",
    "                                                    path=\"./data\",\n",
    "                                                    train='train.csv',\n",
    "                                                    validation='val.csv',\n",
    "                                                    test='test.csv', \n",
    "                                                    format='csv',\n",
    "                                                    fields=[(\"text\",ARTICLE),('headline',SUMMARY)]\n",
    "                                                        )"
   ]
  },
  {
   "cell_type": "code",
   "execution_count": null,
   "metadata": {},
   "outputs": [],
   "source": [
    "ARTICLE.build_vocab(train_data, min_freq=2)\n",
    "SUMMARY.build_vocab(train_data, min_freq=2)"
   ]
  },
  {
   "cell_type": "code",
   "execution_count": null,
   "metadata": {},
   "outputs": [],
   "source": [
    "BATCH_SIZE = 64\n",
    "\n",
    "train_loader, valid_loader, test_loader = BucketIterator.splits(\n",
    "                                                            (train_data, valid_data, test_data),\n",
    "                                                            batch_size=BATCH_SIZE,\n",
    "                                                            sort_within_batch=True,\n",
    "                                                            sort_key = lambda x:len(x.text),\n",
    "                                                            device=device\n",
    "                                                                )"
   ]
  }
 ],
 "metadata": {
  "kernelspec": {
   "display_name": "Python 3",
   "language": "python",
   "name": "python3"
  },
  "language_info": {
   "codemirror_mode": {
    "name": "ipython",
    "version": 3
   },
   "file_extension": ".py",
   "mimetype": "text/x-python",
   "name": "python",
   "nbconvert_exporter": "python",
   "pygments_lexer": "ipython3",
   "version": "3.7.6"
  }
 },
 "nbformat": 4,
 "nbformat_minor": 4
}
